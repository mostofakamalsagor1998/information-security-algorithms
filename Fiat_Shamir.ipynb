{
 "cells": [
  {
   "cell_type": "code",
   "execution_count": 13,
   "metadata": {
    "colab": {
     "base_uri": "https://localhost:8080/"
    },
    "id": "FLsKXd7D9vGv",
    "outputId": "7e48614a-7644-475e-c20d-6c324b17b665"
   },
   "outputs": [
    {
     "name": "stdout",
     "output_type": "stream",
     "text": [
      "here\n",
      "x = r^2 mod N\n",
      "  = 81 mod 15 = 29\n",
      "\n",
      "\n",
      "V^2 = S^2 mod N= 121 mod 52 = 17\n",
      "\n",
      "\n",
      "e = 1\n",
      "\n",
      "y = r*s^e mod N\n",
      "  =9*11^1 mod 52\n",
      "  =99 mod 52\n",
      "  =47\n",
      "\n",
      "x*v^e mod N\n",
      "   =29*17^1 mod 52\n",
      "   25\n",
      "\n",
      "\u001b[1mBob varifies that Alice does not know the secret, He tries to fool Bob\u001b[0;0m\n"
     ]
    }
   ],
   "source": [
    "s=11\n",
    "r=9\n",
    "N=52\n",
    "e=1\n",
    "x=r**2 % N\n",
    "print(\"here\\nx = r^2 mod N\\n  = \"+str(r**2)+\" mod \"+str(15)+\" = \"+str(x)+\"\\n\\n\")\n",
    "v=s**2 % N\n",
    "print(\"V^2 = S^2 mod N= \"+str(s**2)+\" mod \"+str(N)+ \" = \"+str(v)+\"\\n\\n\")\n",
    "print(\"e = \"+str(e)+\"\\n\")\n",
    "y=r*s**e % N\n",
    "print(\"y = r*s^e mod N\\n  =\"+str(r)+\"*\"+str(s)+\"^\"+str(e)+\" mod \"+str(N)+\"\\n  =\"+str(r*s**e)+\" mod \"+str(N)+\"\\n  =\"+str(y))\n",
    "y2=x*v**e % N\n",
    "print(\"\\nx*v^e mod N\\n   =\"+str(x)+\"*\"+str(v)+\"^\"+str(e)+\" mod \"+str(N)+\"\\n   \"+str(y2))\n",
    "\n",
    "start = \"\\033[1m\"\n",
    "end = \"\\033[0;0m\"\n",
    "if(y**2 == y2):\n",
    "  print(\"\\n\"+start+\"Bob varifies that Alice knows the secret\"+end)\n",
    "else:\n",
    "  print(\"\\n\"+start+\"Bob varifies that Alice does not know the secret, He tries to fool Bob\"+end)\n",
    "\n"
   ]
  },
  {
   "cell_type": "code",
   "execution_count": null,
   "metadata": {},
   "outputs": [],
   "source": []
  }
 ],
 "metadata": {
  "colab": {
   "name": "Fiat Shamir.ipynb",
   "provenance": []
  },
  "kernelspec": {
   "display_name": "Python 3",
   "language": "python",
   "name": "python3"
  },
  "language_info": {
   "codemirror_mode": {
    "name": "ipython",
    "version": 3
   },
   "file_extension": ".py",
   "mimetype": "text/x-python",
   "name": "python",
   "nbconvert_exporter": "python",
   "pygments_lexer": "ipython3",
   "version": "3.7.9"
  }
 },
 "nbformat": 4,
 "nbformat_minor": 1
}
