{
 "cells": [
  {
   "cell_type": "markdown",
   "metadata": {
    "id": "_CHI7hgjR6rH"
   },
   "source": [
    "#**Elliptic Curve Cryptography**"
   ]
  },
  {
   "cell_type": "code",
   "execution_count": 92,
   "metadata": {
    "id": "LpxufR9ZSMTX"
   },
   "outputs": [],
   "source": [
    "def modInverse(a, m): \n",
    "    a = a % m \n",
    "    for x in range(1, m): \n",
    "        if ((a * x) % m == 1): \n",
    "            return x \n",
    "    return 1\n",
    "\n",
    "def point_addition(x1,y1,x2,y2,p):\n",
    "  s=((y2-y1)% p)*(modInverse(x2-x1,p))\n",
    "  #print(s)\n",
    "  x3=(s*s-x1-x2) % p\n",
    "  y3=(s*(x1-x3)-y1) % p \n",
    "  return x3,y3\n",
    "\n",
    "def point_doubling(x,y,a,p):\n",
    "  s= ((3*x**2+a) % p)*(modInverse(2*y,p))\n",
    "  print(s)\n",
    "  x3=(s*s-x-x) % p\n",
    "  y3=(s*(x-x3)-y) % p\n",
    "  return x3,y3"
   ]
  },
  {
   "cell_type": "markdown",
   "metadata": {
    "id": "4jDwTfReXVeR"
   },
   "source": [
    "# **Point Addition Function**"
   ]
  },
  {
   "cell_type": "code",
   "execution_count": 68,
   "metadata": {
    "colab": {
     "base_uri": "https://localhost:8080/"
    },
    "id": "w8jBTp6_Tgs2",
    "outputId": "2c292bf6-6877-4bc3-dbd0-ec498226fbd0"
   },
   "outputs": [
    {
     "data": {
      "text/plain": [
       "(7, 7)"
      ]
     },
     "execution_count": 68,
     "metadata": {},
     "output_type": "execute_result"
    }
   ],
   "source": [
    "point_addition(7,11,8,13,9)"
   ]
  },
  {
   "cell_type": "markdown",
   "metadata": {
    "id": "DJcnpgU9Xfxc"
   },
   "source": [
    "# **Point Multiplication/Doubling**"
   ]
  },
  {
   "cell_type": "code",
   "execution_count": 112,
   "metadata": {
    "colab": {
     "base_uri": "https://localhost:8080/"
    },
    "id": "JBWnCQURUx8a",
    "outputId": "c9b29b94-6c76-4e95-8b25-daf6253c4916"
   },
   "outputs": [
    {
     "name": "stdout",
     "output_type": "stream",
     "text": [
      "84\n"
     ]
    },
    {
     "data": {
      "text/plain": [
       "(11, 0)"
      ]
     },
     "execution_count": 112,
     "metadata": {},
     "output_type": "execute_result"
    }
   ],
   "source": [
    "point_doubling(15,14,-2,23)"
   ]
  },
  {
   "cell_type": "markdown",
   "metadata": {
    "id": "4NJZfvupynZe"
   },
   "source": [
    "## **Determining the Cyclic Group/Group Cardinality, E**"
   ]
  },
  {
   "cell_type": "code",
   "execution_count": 70,
   "metadata": {
    "id": "h5fhzqSC2OuN"
   },
   "outputs": [],
   "source": [
    "def n_p(i,x_y,point,a,p):\n",
    "  if (i+1)%2==0:\n",
    "    m=x_y[int((i+1)/2)-1]\n",
    "    x_y.append(point_doubling(m[0],m[1],a,p))\n",
    "  else:\n",
    "    m=x_y[i-1]\n",
    "    x_y.append(point_addition(m[0],m[1],Point[0],Point[1],p))\n",
    "  return x_y"
   ]
  },
  {
   "cell_type": "code",
   "execution_count": 71,
   "metadata": {
    "colab": {
     "base_uri": "https://localhost:8080/"
    },
    "id": "d9y6PJGLVYl8",
    "outputId": "667c945d-f419-4396-f121-f1fda4cc37e2"
   },
   "outputs": [
    {
     "name": "stdout",
     "output_type": "stream",
     "text": [
      "Cyclic Group ,E = 15\n",
      "1P = (6, 3)\n",
      "2P = (35, 11)\n",
      "3P = (34, 25)\n",
      "4P = (8, 6)\n",
      "5P = (16, 19)\n",
      "6P = (22, 1)\n",
      "7P = (20, 8)\n",
      "8P = (20, 29)\n",
      "9P = (22, 36)\n",
      "10P = (16, 18)\n",
      "11P = (8, 31)\n",
      "12P = (34, 12)\n",
      "13P = (35, 26)\n",
      "14P = (6, 34)\n",
      "15P = (24, 6) = ϴ\n",
      "16P = (6, 3)\n"
     ]
    }
   ],
   "source": [
    "Point=(6,3)   #initial Point\n",
    "p=37          #Public value P\n",
    "a=-5           # From Equation Y^2 = x^3 + ax + b\n",
    "x_y=[]\n",
    "E=0\n",
    "x_y.append(Point)\n",
    "for i in range(1,100):\n",
    "  x_y=n_p(i,x_y,Point,a,p)\n",
    "  if x_y[-1]==Point:\n",
    "    E=i\n",
    "    print(\"Cyclic Group ,E = \"+str(E))\n",
    "    break\n",
    "x_y[E-1]=str(x_y[E-1])+\" = \\u03F4\"\n",
    "for i in range(len(x_y)):\n",
    "  print(str(i+1)+\"P = \"+str(x_y[i]))"
   ]
  },
  {
   "cell_type": "markdown",
   "metadata": {
    "id": "R7cSestHUQCH"
   },
   "source": [
    "# **Shortcut of N-th Doubling(Square and Multiply)**"
   ]
  },
  {
   "cell_type": "code",
   "execution_count": 72,
   "metadata": {
    "id": "BPqj-GAJUw4W"
   },
   "outputs": [],
   "source": [
    "def decimalToBinary(n):  \n",
    "    return bin(n).replace(\"0b\", \"\")\n",
    "\n",
    "def steps_of_P(n):\n",
    "  Bn=decimalToBinary(n)\n",
    "  step=[]\n",
    "  while(n>=1):\n",
    "    if n%2==0:\n",
    "      step.append(int(n))\n",
    "      n=n/2\n",
    "    else:\n",
    "      step.append(int(n))\n",
    "      n=(n-1)\n",
    "  step.reverse()\n",
    "  return step"
   ]
  },
  {
   "cell_type": "code",
   "execution_count": 113,
   "metadata": {
    "colab": {
     "base_uri": "https://localhost:8080/"
    },
    "id": "XelcyFmyUWpL",
    "outputId": "d72703b0-9f86-414f-934f-aaec77fa9d1a"
   },
   "outputs": [
    {
     "name": "stdout",
     "output_type": "stream",
     "text": [
      "64\n",
      "91\n",
      "28\n",
      "14P = (1110)P\n",
      "Step : 0 --=> 1P = (1)P =(5, 18)\n",
      "Step : 1 --=> 2P = (10)P =(15, 9)\n",
      "Step : 2 --=> 3P = (11)P =(16, 8)\n",
      "Step : 3 --=> 6P = (110)P =(15, 14)\n",
      "Step : 4 --=> 7P = (111)P =(5, 5)\n",
      "Step : 5 --=> 14P = (1110)P =(15, 14)\n"
     ]
    }
   ],
   "source": [
    "Point=(5,18)\n",
    "p=23\n",
    "a=-2\n",
    "n=14\n",
    "#line 1-4 are editable \n",
    "steps_of_point=[]\n",
    "coefficient_of_P=steps_of_P(n)\n",
    "for i in coefficient_of_P:\n",
    "  if i==1:\n",
    "    steps_of_point.append(Point)\n",
    "  elif int(decimalToBinary(i)[-1])==0:\n",
    "    steps_of_point.append(point_doubling(steps_of_point[-1][0],steps_of_point[-1][1],a,p))\n",
    "  else:\n",
    "    steps_of_point.append(point_addition(steps_of_point[-1][0],steps_of_point[-1][1],Point[0],Point[1],p))\n",
    "print(str(n)+\"P = (\"+str(decimalToBinary(n))+\")P\")\n",
    "for i in range(len(steps_of_point)):\n",
    "  print(\"Step : \"+str(i)+\" --=> \"+str(coefficient_of_P[i])+\"P = (\"+str(decimalToBinary(coefficient_of_P[i]))+\")P =\"+str(steps_of_point[i]))\n",
    "\n"
   ]
  },
  {
   "cell_type": "markdown",
   "metadata": {
    "id": "Lng9l3HFziy7"
   },
   "source": [
    "# **Generating Shared Key**\n",
    "<b><u>Equation</u> : Y<sup>2</sup> = X<sup>3</sup> + ax + b <br>\n",
    "point , P = (x,y) <br>\n",
    "Cyclic Group , E</b>\n",
    "\n",
    "Private key={2,3,4,5..............,E-1}<br>\n",
    "Let's see an example:<br>\n",
    "Here,<pre>      Y<sup>2</sup> = X<sup>3</sup> + 2x + 2 \n",
    "      point , P = (5,1) \n",
    "      Cyclic Group , E = 19 </pre>\n",
    "<pre>               <b>Alice</b>                                       <b>Bob</b><hr>\n",
    "        a = k<sub>private</sub> = K<sub>a</sub> = 3                           b = k<sub>private</sub> = K<sub>b</sub>= 10                                         \n",
    "        A = k<sub>public</sub> = a.P                          B = k<sub>public</sub> = b.P \n",
    "                   = 3P = 3(5,1)=(10,6)             = 10P = 10(5,1)=(7,11)\n",
    "                                           <b> A</b>\n",
    "                                   ------------------->\n",
    "                                           <b> B</b>\n",
    "                                   <------------------- \n",
    "        a.B = 3.(7,11) = (13,10)                  b.A = 10(10,6) = (13,10)\n",
    "\n",
    "        <b>Shared Key = common value of X-ordinate of Alice and Bob</b>\n",
    "                   = 13 \n"
   ]
  },
  {
   "cell_type": "code",
   "execution_count": 74,
   "metadata": {
    "id": "YF8tOJ5z8-YI"
   },
   "outputs": [],
   "source": [
    "def point_operation(n,Point,a,p):\n",
    "  steps_of_point=[]\n",
    "  coefficient_of_P=steps_of_P(n)\n",
    "  for i in coefficient_of_P:\n",
    "    if i==1:\n",
    "      steps_of_point.append(Point)\n",
    "    elif int(decimalToBinary(i)[-1])==0:\n",
    "      steps_of_point.append(point_doubling(steps_of_point[-1][0],steps_of_point[-1][1],a,p))\n",
    "    else:\n",
    "      steps_of_point.append(point_addition(steps_of_point[-1][0],steps_of_point[-1][1],Point[0],Point[1],p))\n",
    "  \n",
    "  return steps_of_point[-1]\n"
   ]
  },
  {
   "cell_type": "code",
   "execution_count": 81,
   "metadata": {
    "colab": {
     "base_uri": "https://localhost:8080/",
     "height": 150
    },
    "id": "paCVn1SAnNjM",
    "outputId": "7bd09b5c-b3ca-480c-c0d2-c4c439f1821b"
   },
   "outputs": [
    {
     "name": "stdout",
     "output_type": "stream",
     "text": [
      "Shared Key = 22\n"
     ]
    },
    {
     "data": {
      "text/html": [
       "<div>\n",
       "<style scoped>\n",
       "    .dataframe tbody tr th:only-of-type {\n",
       "        vertical-align: middle;\n",
       "    }\n",
       "\n",
       "    .dataframe tbody tr th {\n",
       "        vertical-align: top;\n",
       "    }\n",
       "\n",
       "    .dataframe thead th {\n",
       "        text-align: right;\n",
       "    }\n",
       "</style>\n",
       "<table border=\"1\" class=\"dataframe\">\n",
       "  <thead>\n",
       "    <tr style=\"text-align: right;\">\n",
       "      <th></th>\n",
       "      <th>Alice</th>\n",
       "      <th>Bob</th>\n",
       "    </tr>\n",
       "  </thead>\n",
       "  <tbody>\n",
       "    <tr>\n",
       "      <th>Private Key</th>\n",
       "      <td>a = 3</td>\n",
       "      <td>b = 7</td>\n",
       "    </tr>\n",
       "    <tr>\n",
       "      <th>Public Key</th>\n",
       "      <td>A = (2, 11)</td>\n",
       "      <td>B = (18, 18)</td>\n",
       "    </tr>\n",
       "    <tr>\n",
       "      <th>Shared Key</th>\n",
       "      <td>(22, 7)</td>\n",
       "      <td>(22, 7)</td>\n",
       "    </tr>\n",
       "  </tbody>\n",
       "</table>\n",
       "</div>"
      ],
      "text/plain": [
       "                   Alice           Bob\n",
       "Private Key        a = 3         b = 7\n",
       "Public Key   A = (2, 11)  B = (18, 18)\n",
       "Shared Key       (22, 7)       (22, 7)"
      ]
     },
     "execution_count": 81,
     "metadata": {},
     "output_type": "execute_result"
    }
   ],
   "source": [
    "import pandas as pd\n",
    "a=-2\n",
    "p=23\n",
    "Point=(10,4)\n",
    "E=20\n",
    "ka=3\n",
    "kb=7\n",
    "#line 2-7 are editable\n",
    "A=point_operation(ka,Point,a,p)\n",
    "B=point_operation(kb,Point,a,p)\n",
    "Alice_key=point_operation(ka,B,a,p)\n",
    "Bob_key=point_operation(kb,A,a,p)\n",
    "\n",
    "result=([\"a = \"+str(ka),\"b = \"+str(kb)],\n",
    "        [\"A = \"+str(A),\"B = \"+str(B)],\n",
    "        [Alice_key,Bob_key])\n",
    "\n",
    "if Alice_key[0]==Bob_key[0]:\n",
    "  print(\"Shared Key = \"+str(Alice_key[0]))\n",
    "\n",
    "pd.DataFrame(result,columns=['Alice','Bob'],index=['Private Key','Public Key','Shared Key'])"
   ]
  },
  {
   "cell_type": "markdown",
   "metadata": {
    "id": "UR7sW4EXasRL"
   },
   "source": [
    "# **GCD Determination(Euclidean Method)**"
   ]
  },
  {
   "cell_type": "code",
   "execution_count": 99,
   "metadata": {
    "colab": {
     "base_uri": "https://localhost:8080/"
    },
    "id": "Js7QE8t9awQl",
    "outputId": "151463c7-1474-4f82-8714-d9111aa386e5"
   },
   "outputs": [
    {
     "name": "stdout",
     "output_type": "stream",
     "text": [
      "\n",
      "36 = 1 * 23 + 13\n",
      "23 = 1 * 13 + 10\n",
      "13 = 1 * 10 + 3\n",
      "10 = 3 * 3 + 1\n",
      "3 = 3 * 1 + 0\n",
      "gcd is 1\n"
     ]
    },
    {
     "data": {
      "text/plain": [
       "1"
      ]
     },
     "execution_count": 99,
     "metadata": {},
     "output_type": "execute_result"
    }
   ],
   "source": [
    "from math import *\n",
    "\n",
    "def euclid_algo(x, y, verbose=True):\n",
    "\tif x < y: # We want x >= y\n",
    "\t\treturn euclid_algo(y, x, verbose)\n",
    "\tprint()\n",
    "\twhile y != 0:\n",
    "\t\tif verbose: print('%s = %s * %s + %s' % (x, floor(x/y), y, x % y))\n",
    "\t\t(x, y) = (y, x % y)\n",
    "\t\n",
    "\tif verbose: print('gcd is %s' % x) \n",
    "\treturn x\n",
    "\n",
    "\n",
    "euclid_algo(36, 23)\n"
   ]
  },
  {
   "cell_type": "markdown",
   "metadata": {
    "id": "ZEcdLx7Li8wT"
   },
   "source": [
    "# **GCD Determination(Extended Euclidean Method)**"
   ]
  },
  {
   "cell_type": "code",
   "execution_count": 107,
   "metadata": {
    "colab": {
     "base_uri": "https://localhost:8080/"
    },
    "id": "ayuPwcfNbUEq",
    "outputId": "f976b7e5-c043-4f78-ca77-2744cc7bfa18"
   },
   "outputs": [
    {
     "name": "stdout",
     "output_type": "stream",
     "text": [
      "13 = -1*23 + 1*36\n",
      "10 = 2*23 + -1*36\n",
      "3 = -3*23 + 2*36\n",
      "1 = 11*23 + -7*36\n",
      "\n",
      "Multiplicative Inverse is=-7\n"
     ]
    }
   ],
   "source": [
    "from typing import Tuple\n",
    "x=23\n",
    "y=36\n",
    "def xgcd(a: int, b: int) -> Tuple[int, int, int]:\n",
    "    x0, x1, y0, y1 = 0, 1, 1, 0\n",
    "    while a != 0:\n",
    "        (q, a), b = divmod(b, a), a\n",
    "        y0, y1 = y1, y0 - q * y1\n",
    "        x0, x1 = x1, x0 - q * x1\n",
    "        if (x0!=0 and y0!=0):\n",
    "          print(str(b)+\" = \"+str(x0)+\"*\"+str(x)+\" + \"+str(y0)+\"*\"+str(y))\n",
    "    return b, x0, y0\n",
    "r2,r0,r1=xgcd(x,y)\n",
    "\n",
    "print(\"\\nMultiplicative Inverse is=\"+str(r1))"
   ]
  },
  {
   "cell_type": "code",
   "execution_count": 108,
   "metadata": {
    "colab": {
     "base_uri": "https://localhost:8080/"
    },
    "id": "Yuex5xd-h5Xb",
    "outputId": "c8e72402-801e-4f72-b1bd-fe5cb8a9aa44"
   },
   "outputs": [
    {
     "data": {
      "text/plain": [
       "16"
      ]
     },
     "execution_count": 108,
     "metadata": {},
     "output_type": "execute_result"
    }
   ],
   "source": [
    "modInverse(36,23)"
   ]
  },
  {
   "cell_type": "code",
   "execution_count": null,
   "metadata": {},
   "outputs": [],
   "source": []
  },
  {
   "cell_type": "code",
   "execution_count": null,
   "metadata": {},
   "outputs": [],
   "source": []
  }
 ],
 "metadata": {
  "colab": {
   "collapsed_sections": [],
   "name": "Elliptic Curve Cryptography.ipynb",
   "provenance": []
  },
  "kernelspec": {
   "display_name": "Python 3",
   "language": "python",
   "name": "python3"
  },
  "language_info": {
   "codemirror_mode": {
    "name": "ipython",
    "version": 3
   },
   "file_extension": ".py",
   "mimetype": "text/x-python",
   "name": "python",
   "nbconvert_exporter": "python",
   "pygments_lexer": "ipython3",
   "version": "3.7.9"
  }
 },
 "nbformat": 4,
 "nbformat_minor": 1
}
