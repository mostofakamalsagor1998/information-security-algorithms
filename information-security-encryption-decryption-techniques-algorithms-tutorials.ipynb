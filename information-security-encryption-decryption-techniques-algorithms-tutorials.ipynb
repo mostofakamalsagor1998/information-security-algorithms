{
 "cells": [
  {
   "cell_type": "markdown",
   "metadata": {},
   "source": [
    "<h1><font color=\"red\">Lecture:01</font></h1>"
   ]
  },
  {
   "cell_type": "markdown",
   "metadata": {},
   "source": [
    "<h2><font color=\"blue\"><b>Type:01</b></font></h2>"
   ]
  },
  {
   "cell_type": "markdown",
   "metadata": {},
   "source": [
    "<h3>Simple Substitution: Shift by n-(Encryption)</h3>"
   ]
  },
  {
   "cell_type": "code",
   "execution_count": 1,
   "metadata": {},
   "outputs": [],
   "source": [
    "# Test values...!\n",
    "# .\n",
    "# .\n",
    "# .\n",
    "# plaintext=spongebobsquarepantr"
   ]
  },
  {
   "cell_type": "code",
   "execution_count": 141,
   "metadata": {},
   "outputs": [
    {
     "name": "stdout",
     "output_type": "stream",
     "text": [
      "Plain text=encrypted text\n",
      "Key=3\n",
      "e | 104 | h | H\n",
      "n | 113 | q | Q\n",
      "c | 102 | f | F\n",
      "r | 117 | u | U\n",
      "y | 98 | b | B\n",
      "p | 115 | s | S\n",
      "t | 119 | w | W\n",
      "e | 104 | h | H\n",
      "d | 103 | g | G\n",
      "space\n",
      "t | 119 | w | W\n",
      "e | 104 | h | H\n",
      "x | 97 | a | A\n",
      "t | 119 | w | W\n",
      "Cipher Text =  HQFUBSWHG WHAW\n"
     ]
    }
   ],
   "source": [
    "# caesar's cipher:encryption->use key=3\n",
    "plaintext=input(\"Plain text=\").lower()\n",
    "n=int(input(\"Key=\"))\n",
    "ciphertext=\"\"\n",
    "for x in plaintext:\n",
    "    if ord(x)+3<=122 and x!=\" \":\n",
    "            ciphertext+=chr(ord(x)+n)\n",
    "            print(x,\"|\",ord(x)+n,\"|\",chr(ord(x)+n),\"|\",chr(ord(x)+n-32))\n",
    "    elif x!=\" \":\n",
    "            circular_distance=ord(x)+n-122\n",
    "            ciphertext+=chr(96+circular_distance)\n",
    "            print(x,\"|\",96+circular_distance,\"|\",chr(96+circular_distance),\"|\",chr(96+circular_distance-32))\n",
    "    else:\n",
    "            ciphertext+=\" \"\n",
    "            print(\"space\")\n",
    "print (\"Cipher Text = \", ciphertext.upper())"
   ]
  },
  {
   "cell_type": "markdown",
   "metadata": {},
   "source": [
    "<h3>Simple Substitution: Shift by n-(Decryption)</h3>"
   ]
  },
  {
   "cell_type": "code",
   "execution_count": 3,
   "metadata": {},
   "outputs": [],
   "source": [
    "# Test values...!\n",
    "# .\n",
    "# .\n",
    "# .\n",
    "# ciphertext=VSRQJHEREVTXDUHSDQWU"
   ]
  },
  {
   "cell_type": "code",
   "execution_count": 137,
   "metadata": {},
   "outputs": [
    {
     "name": "stdout",
     "output_type": "stream",
     "text": [
      "Cipher text=HQFUBSWHG WHAW\n",
      "Key=3\n",
      "H | 69 | E | e\n",
      "Q | 78 | N | n\n",
      "F | 67 | C | c\n",
      "U | 82 | R | r\n",
      "B | 88 | Y | y\n",
      "S | 80 | P | p\n",
      "W | 84 | T | t\n",
      "H | 69 | E | e\n",
      "G | 68 | D | d\n",
      "space\n",
      "W | 84 | T | t\n",
      "H | 69 | E | e\n",
      "A | 87 | X | x\n",
      "W | 84 | T | t\n",
      "Plain Text =  encrypted text\n"
     ]
    }
   ],
   "source": [
    "#caesar's cipher: decryption->use key=3\n",
    "ciphertext=input(\"Cipher text=\").upper()\n",
    "n=int(input(\"Key=\"))\n",
    "plaintext=\"\"\n",
    "for x in ciphertext:\n",
    "    if ord(x)-3>=65:\n",
    "            plaintext+=chr(ord(x)-n)\n",
    "            print(x,\"|\",ord(x)-n,\"|\",chr(ord(x)-n),\"|\",chr(ord(x)-n+32))\n",
    "    elif x!=\" \":\n",
    "            circular_distance=65-(ord(x)-n)\n",
    "            plaintext+=chr(91-circular_distance)\n",
    "            print(x,\"|\",90-circular_distance,\"|\",chr(91-circular_distance),\"|\",chr(91-circular_distance+32))\n",
    "    else:\n",
    "            plaintext+=\" \"\n",
    "            print(\"space\")\n",
    "print (\"Plain Text = \", plaintext.lower())"
   ]
  },
  {
   "cell_type": "markdown",
   "metadata": {},
   "source": [
    "<h2><font color=\"blue\"><b>Type:02</b></font></h2>"
   ]
  },
  {
   "cell_type": "markdown",
   "metadata": {},
   "source": [
    "<h3>Double Transposition</h3>"
   ]
  },
  {
   "cell_type": "code",
   "execution_count": 5,
   "metadata": {},
   "outputs": [],
   "source": [
    "# Test values...!\n",
    "# .\n",
    "# .\n",
    "# .\n",
    "# plaintext=we are all together\n",
    "#row=4\n",
    "#col=4"
   ]
  },
  {
   "cell_type": "code",
   "execution_count": 6,
   "metadata": {},
   "outputs": [
    {
     "name": "stdout",
     "output_type": "stream",
     "text": [
      "Plain text=we are all together\n",
      "Please enter the row x col of the matrix below:\n",
      "Rows=4\n",
      "Columns=4\n",
      "  w |   e |   a |   r | \n",
      "  e |   a |   l |   l | \n",
      "  t |   o |   g |   e | \n",
      "  t |   h |   e |   r | \n",
      "  4x4 matrix\n"
     ]
    }
   ],
   "source": [
    "plaintext=input(\"Plain text=\").lower()\n",
    "plaintext_matrix=[c for c in plaintext if c!=\" \"]\n",
    "print(\"Please enter the row x col of the matrix below:\")\n",
    "row=int(input(\"Rows=\"))\n",
    "col=int(input(\"Columns=\"))\n",
    "temp_matrix=[]\n",
    "double_transposition_matrix=[]\n",
    "for idx in range(row*col):\n",
    "    if idx<len(plaintext_matrix):\n",
    "        temp_matrix.append(plaintext_matrix[idx])\n",
    "    else:\n",
    "        temp_matrix.append(\"X\")\n",
    "for idx in range(0,row*col,col):\n",
    "    double_transposition_matrix.append(temp_matrix[idx:idx+col])\n",
    "for v in double_transposition_matrix:\n",
    "    for e in v:\n",
    "        print(\" \",e,end=\" | \")\n",
    "    print()\n",
    "print(f\"  {row}x{col} matrix\")"
   ]
  },
  {
   "cell_type": "markdown",
   "metadata": {},
   "source": [
    "<h3>Row Permutation</h3>"
   ]
  },
  {
   "cell_type": "code",
   "execution_count": 7,
   "metadata": {},
   "outputs": [],
   "source": [
    "# Test values...!\n",
    "# .\n",
    "# .\n",
    "# .\n",
    "# row_permutation=2,4,1,3"
   ]
  },
  {
   "cell_type": "code",
   "execution_count": 8,
   "metadata": {},
   "outputs": [
    {
     "name": "stdout",
     "output_type": "stream",
     "text": [
      "Enter row permutation:\n",
      "2,4,1,3\n",
      "  e |   a |   l |   l | \n",
      "  t |   h |   e |   r | \n",
      "  w |   e |   a |   r | \n",
      "  t |   o |   g |   e | \n",
      "  4x4 matrix\n"
     ]
    }
   ],
   "source": [
    "print(\"Enter row permutation:\")\n",
    "row_permutation=[int(idx)-1 for idx in input().split(\",\")]\n",
    "permutation_matrix=[]\n",
    "for idx in row_permutation:\n",
    "    permutation_matrix.append(double_transposition_matrix[idx])\n",
    "for v in permutation_matrix:\n",
    "    for e in v:\n",
    "        print(\" \",e,end=\" | \")\n",
    "    print()\n",
    "print(f\"  {row}x{col} matrix\")"
   ]
  },
  {
   "cell_type": "markdown",
   "metadata": {},
   "source": [
    "<h3>Column Permutation</h3>"
   ]
  },
  {
   "cell_type": "code",
   "execution_count": 9,
   "metadata": {},
   "outputs": [],
   "source": [
    "# Test values...!\n",
    "# .\n",
    "# .\n",
    "# .\n",
    "# col_permutation=3,1,2,4"
   ]
  },
  {
   "cell_type": "code",
   "execution_count": 10,
   "metadata": {},
   "outputs": [
    {
     "name": "stdout",
     "output_type": "stream",
     "text": [
      "Enter column permutation:\n",
      "3,1,2,4\n",
      "  l |   e |   a |   l | \n",
      "  e |   t |   h |   r | \n",
      "  a |   w |   e |   r | \n",
      "  g |   t |   o |   e | \n",
      "  4x4 matrix\n"
     ]
    }
   ],
   "source": [
    "print(\"Enter column permutation:\")\n",
    "col_permutation=[int(idx)-1 for idx in input().split(\",\")]\n",
    "for r in range(len(permutation_matrix)):\n",
    "    si=col_permutation.copy()\n",
    "    for c in range(len(permutation_matrix[r])):\n",
    "        for idx in range(len(si)):\n",
    "            if c==si[idx]:\n",
    "                si[idx]=permutation_matrix[r][c]\n",
    "    permutation_matrix[r]=si\n",
    "for v in permutation_matrix:\n",
    "    for e in v:\n",
    "        print(\" \",e,end=\" | \")\n",
    "    print()\n",
    "print(f\"  {row}x{col} matrix\")"
   ]
  },
  {
   "cell_type": "code",
   "execution_count": 11,
   "metadata": {},
   "outputs": [],
   "source": [
    "#Run the block below to get the Cipher Text...!!!"
   ]
  },
  {
   "cell_type": "code",
   "execution_count": 12,
   "metadata": {},
   "outputs": [
    {
     "name": "stdout",
     "output_type": "stream",
     "text": [
      "Cipher Text =  LE ALE THR AWERGTOE\n"
     ]
    }
   ],
   "source": [
    "ciphertext=\"\"\n",
    "join=\"\"\n",
    "for v in permutation_matrix:\n",
    "        join+=\"\".join(v)\n",
    "index=0\n",
    "for x in plaintext:\n",
    "    if x==\" \":\n",
    "        ciphertext+=\" \"\n",
    "    else:\n",
    "        ciphertext+=join[index]\n",
    "        index+=1\n",
    "print (\"Cipher Text = \", ciphertext.upper())   "
   ]
  },
  {
   "cell_type": "markdown",
   "metadata": {},
   "source": [
    "<h2><font color=\"blue\"><b>Type:03</b></font></h2>"
   ]
  },
  {
   "cell_type": "markdown",
   "metadata": {},
   "source": [
    "<html>\n",
    "<body>\n",
    "    <h3>One-Time Pad</h3>\n",
    "<table border=20>\n",
    "               <tr><td>e</td><td>h</td><td>i</td><td>k</td><td>l</td><td>r</td><td>s</td><td>t</td></tr>\n",
    "               <tr><td>000</td><td>001</td><td>010</td><td>011</td><td>100</td><td>101</td><td>110</td><td>111</td></tr>\n",
    "</table>\n",
    "</body>\n",
    "</html>          "
   ]
  },
  {
   "cell_type": "code",
   "execution_count": 13,
   "metadata": {},
   "outputs": [],
   "source": [
    "# Test values...!\n",
    "# .\n",
    "# .\n",
    "# .\n",
    "# plaintext=killhitler\n",
    "# ciphertext=SRLHSSTHSR\n",
    "# key=101111000101111100000101110000"
   ]
  },
  {
   "cell_type": "code",
   "execution_count": 14,
   "metadata": {},
   "outputs": [
    {
     "name": "stdout",
     "output_type": "stream",
     "text": [
      "What do you want to figure out using One-time pad?\n",
      " 1. Cipher text \n",
      " 2. Plain text \n",
      " 3. Key\n",
      "3\n",
      "Plain text :\n",
      "killhitler\n",
      "Cipher text :\n",
      "SRLHSSTHSR\n",
      "Abbreviated plaintext :\n",
      " 011010100100001010111100000101\n",
      "Abbreviated ciphertext :\n",
      " 110101100001110110111001110101\n",
      "Key : \n",
      "101111000101111100000101110000\n"
     ]
    }
   ],
   "source": [
    "abbreviated_alphabet={\"e\":\"000\",\"h\":\"001\",\"i\":\"010\",\"k\":\"011\",\"l\":\"100\",\"r\":\"101\",\"s\":\"110\",\"t\":\"111\"}\n",
    "mapping={\"000\":\"e\",\"001\":\"h\",\"010\":\"i\",\"011\":\"k\",\"100\":\"l\",\"101\":\"r\",\"110\":\"s\",\"111\":\"t\"}\n",
    "choice=int(input(\"What do you want to figure out using One-time pad?\\n 1. Cipher text \\n 2. Plain text \\n 3. Key\\n\"))\n",
    "if choice==1:\n",
    "    #plain text\n",
    "    plaintext=input(\"Plain text :\\n\").lower()\n",
    "    changed_plaintext=\"\"\n",
    "    for t1 in plaintext:\n",
    "         changed_plaintext+=str(abbreviated_alphabet[t1])\n",
    "    print(\"Abbreviated plaintext : \\n\",changed_plaintext)\n",
    "            \n",
    "    #key\n",
    "    key=input(\"Key :\\n\")\n",
    "    \n",
    "    #calculated bits\n",
    "    calc=\"\"\n",
    "    \n",
    "    #XOR operation\n",
    "    for idx in range(len(key)):\n",
    "        calc+=str(int(changed_plaintext[idx])^int(key[idx]))\n",
    "    print(f\"Calculated bits :\\n{calc}\")\n",
    "    \n",
    "    #ciphertext\n",
    "    ciphertext=\"\"\n",
    "    for idx in range(0,len(calc),3):\n",
    "        ciphertext+=mapping[calc[idx:idx+3]]\n",
    "    print (\"Cipher Text :\\n\", ciphertext.upper())\n",
    "\n",
    "elif choice==2:\n",
    "    #plain text\n",
    "    ciphertext=input(\"Cipher text :\\n\").lower()\n",
    "    changed_ciphertext=\"\"\n",
    "    for t2 in ciphertext:\n",
    "         changed_ciphertext+=str(abbreviated_alphabet[t2])\n",
    "    print(\"Abbreviated ciphertext :\\n\",changed_ciphertext)     \n",
    "    #key\n",
    "    key=input(\"Key : \\n\")\n",
    "    \n",
    "    #calculated bits\n",
    "    calc=\"\"\n",
    "    \n",
    "    #XOR operation\n",
    "    for idx in range(len(key)):\n",
    "        calc+=str(int(changed_ciphertext[idx])^int(key[idx]))\n",
    "    print(f\"Calculated bits :\\n{calc}\")\n",
    "    \n",
    "    #ciphertext\n",
    "    plaintext=\"\"\n",
    "    for idx in range(0,len(calc),3):\n",
    "        plaintext+=mapping[calc[idx:idx+3]]\n",
    "    print (\"Plain Text : \\n\", plaintext)\n",
    "else:\n",
    "    plaintext=input(\"Plain text :\\n\").lower()\n",
    "    ciphertext=input(\"Cipher text :\\n\").lower()\n",
    "    changed_plaintext=\"\"\n",
    "    changed_ciphertext=\"\"\n",
    "    \n",
    "    for t1 in plaintext:\n",
    "         changed_plaintext+=str(abbreviated_alphabet[t1])\n",
    "    print(\"Abbreviated plaintext :\\n\",changed_plaintext)     \n",
    "    \n",
    "    for t2 in ciphertext:\n",
    "         changed_ciphertext+=str(abbreviated_alphabet[t2])\n",
    "    print(\"Abbreviated ciphertext :\\n\",changed_ciphertext)            \n",
    "    #key\n",
    "    key=\"\"\n",
    "    \n",
    "    #XOR operation\n",
    "    for idx in range((len(changed_plaintext)+len(changed_ciphertext))//2):\n",
    "        key+=str(int(changed_plaintext[idx])^int(changed_ciphertext[idx]))\n",
    "    print(f\"Key : \\n{key}\")"
   ]
  },
  {
   "cell_type": "markdown",
   "metadata": {},
   "source": [
    "<h1><font color=\"red\">Lecture:02</font></h1>"
   ]
  },
  {
   "cell_type": "markdown",
   "metadata": {},
   "source": [
    "<h2><font color=\"blue\"><b>Type:01</b></font></h2>"
   ]
  },
  {
   "cell_type": "markdown",
   "metadata": {},
   "source": [
    "<h3>A5/1<h3>"
   ]
  },
  {
   "cell_type": "code",
   "execution_count": 15,
   "metadata": {},
   "outputs": [],
   "source": [
    "# Test values...!\n",
    "# .\n",
    "# .\n",
    "# .\n",
    "# x = 0110001100101001011\n",
    "# y = 0011000000000000011101\n",
    "# z = 10011101101111100100111\n",
    "\n",
    "# X = (x0,x1,..., x18) =1010101010101010101\n",
    "# Y = (y0, y1, ..., y21) = 1100110011001100110011\n",
    "# Z = (z0, z1 , . . . , z22) = 11100001111000011110000"
   ]
  },
  {
   "cell_type": "code",
   "execution_count": 182,
   "metadata": {},
   "outputs": [],
   "source": [
    "X = [1010111010011011001]\n",
    "Y = [0110111100010010100110]\n",
    "Z = [00001111010101001100001]"
   ]
  },
  {
   "cell_type": "code",
   "execution_count": 1,
   "metadata": {},
   "outputs": [
    {
     "name": "stdout",
     "output_type": "stream",
     "text": [
      "X=1010101010101010101\n",
      "Y=1100110011001100110011\n",
      "Z=11100001111000011110000\n",
      "How many keystream bits?\n",
      "4\n",
      "Step 1 :\n",
      "==========================\n",
      "x8= 1\n",
      "y10= 0\n",
      "z10= 1\n",
      "major= 1\n",
      "One right shift in X register\n",
      "t0= 0\n",
      "One right shift in Z register\n",
      "t2= 1\n",
      "x=0101010101010101010\n",
      "y=1100110011001100110011\n",
      "z=11110000111100001111000\n",
      "Key-stream bit  =>( 0 XOR 1 XOR 0 ) = 1\n",
      "Key-stream bit  =>( 0 ^ 1 ^ 0 ) = 1\n",
      "==========================\n",
      "Step 2 :\n",
      "==========================\n",
      "x8= 0\n",
      "y10= 0\n",
      "z10= 1\n",
      "major= 0\n",
      "One right shift in X register\n",
      "t0= 0\n",
      "One right shift in Y register\n",
      "t1= 0\n",
      "x=0010101010101010101\n",
      "y=0110011001100110011001\n",
      "z=11110000111100001111000\n",
      "Key-stream bit  =>( 1 XOR 1 XOR 0 ) = 0\n",
      "Key-stream bit  =>( 1 ^ 1 ^ 0 ) = 0\n",
      "==========================\n",
      "Step 3 :\n",
      "==========================\n",
      "x8= 1\n",
      "y10= 1\n",
      "z10= 1\n",
      "major= 1\n",
      "One right shift in X register\n",
      "t0= 0\n",
      "One right shift in Y register\n",
      "t1= 1\n",
      "One right shift in Z register\n",
      "t2= 0\n",
      "x=0001010101010101010\n",
      "y=1011001100110011001100\n",
      "z=01111000011110000111100\n",
      "Key-stream bit  =>( 0 XOR 0 XOR 0 ) = 0\n",
      "Key-stream bit  =>( 0 ^ 0 ^ 0 ) = 0\n",
      "==========================\n",
      "Step 4 :\n",
      "==========================\n",
      "x8= 0\n",
      "y10= 1\n",
      "z10= 1\n",
      "major= 1\n",
      "One right shift in Y register\n",
      "t1= 0\n",
      "One right shift in Z register\n",
      "t2= 1\n",
      "x=0001010101010101010\n",
      "y=0101100110011001100110\n",
      "z=10111100001111000011110\n",
      "Key-stream bit  =>( 0 XOR 0 XOR 0 ) = 0\n",
      "Key-stream bit  =>( 0 ^ 0 ^ 0 ) = 0\n",
      "==========================\n",
      "Summary :  [1, 0, 0, 0]\n"
     ]
    }
   ],
   "source": [
    "x = [int(xe) for xe in list(input(\"X=\"))]\n",
    "y = [int(ye) for ye in list(input(\"Y=\"))]\n",
    "z =  [int(ze) for ze in list(input(\"Z=\"))]\n",
    "keystream=int(input(\"How many keystream bits?\\n\"))\n",
    "k=[]\n",
    "for c in range(keystream):\n",
    "    print(f\"Step {c+1} :\")\n",
    "    print(\"==========================\")\n",
    "    print(\"x8=\",x[8])\n",
    "    print(\"y10=\",y[10])\n",
    "    print(\"z10=\",z[10])\n",
    "\n",
    "#     m = maj(x8, y10, z10) \n",
    "# ..........................................\n",
    "    m=[x[8],y[10],z[10]]\n",
    "    if m.count(0)>m.count(1):\n",
    "        m=0\n",
    "    else:\n",
    "        m=1\n",
    "    print(\"major=\",m)    \n",
    "# ..........................................\n",
    "\n",
    "    if x[8]==m:\n",
    "        print(\"One right shift in X register\")\n",
    "        t0=x[13]^x[16]^x[17]^x[18]\n",
    "        print(\"t0=\",t0)\n",
    "        x[1:19]=x[0:18]\n",
    "        x[0]=t0\n",
    "        x=\"\".join([str(i) for i in x])\n",
    "    else:\n",
    "        x=\"\".join([str(i) for i in x])\n",
    "\n",
    "\n",
    "    if y[10]==m:\n",
    "        print(\"One right shift in Y register\")\n",
    "        t1=y[20]^y[21]\n",
    "        print(\"t1=\",t1)\n",
    "        y[1:22]=y[0:21]\n",
    "        y[0]=t1\n",
    "        y=\"\".join([str(i) for i in y])\n",
    "    else:\n",
    "        y=\"\".join([str(i) for i in y])\n",
    "\n",
    "\n",
    "    if z[10]==m:\n",
    "        print(\"One right shift in Z register\")\n",
    "        t2=z[7]^z[20]^z[21]^z[22]\n",
    "        print(\"t2=\",t2)\n",
    "        z[1:23]=z[0:22]\n",
    "        z[0]=t2\n",
    "        z=\"\".join([str(i) for i in z])\n",
    "    else:\n",
    "        z=\"\".join([str(i) for i in z])\n",
    "        \n",
    "    print(f\"x={x}\")\n",
    "    print(f\"y={y}\")\n",
    "    print(f\"z={z}\")\n",
    "    \n",
    "    x=[int(ex) for ex in x]\n",
    "    y=[int(ey) for ey in y]\n",
    "    z=[int(ez) for ez in z]\n",
    "\n",
    "    c=1\n",
    "    key=x[18]^y[21]^z[22]\n",
    "    k.append(key)\n",
    "    print(f\"Key-stream bit  =>( {x[18]} XOR {y[21]} XOR {z[22]} ) = {key}\")\n",
    "    print(f\"Key-stream bit  =>( {x[18]} ^ {y[21]} ^ {z[22]} ) = {key}\")\n",
    "    print(\"==========================\")\n",
    "print(\"Summary : \",k)"
   ]
  },
  {
   "cell_type": "markdown",
   "metadata": {},
   "source": [
    "<h2><font color=\"blue\"><b>Type:02</b></font></h2>"
   ]
  },
  {
   "cell_type": "markdown",
   "metadata": {},
   "source": [
    "<h3>DES<h3>"
   ]
  },
  {
   "cell_type": "code",
   "execution_count": 102,
   "metadata": {},
   "outputs": [],
   "source": [
    "# o\tS-boxes: 8, (6 bits to 4 bits)"
   ]
  },
  {
   "cell_type": "code",
   "execution_count": 1,
   "metadata": {},
   "outputs": [],
   "source": [
    "d00={\n",
    "    \"0000\":\"1110\",\n",
    "    \"0001\":\"0100\",\n",
    "    \"0010\":\"1101\",\n",
    "    \"0011\":\"0001\",\n",
    "    \"0100\":\"0010\",\n",
    "    \"0101\":\"1111\",\n",
    "    \"0110\":\"1011\",\n",
    "    \"0111\":\"1000\",\n",
    "    \"1000\":\"0011\",\n",
    "    \"1001\":\"1010\",\n",
    "    \"1010\":\"0110\",\n",
    "    \"1011\":\"1100\",\n",
    "    \"1100\":\"0101\",\n",
    "    \"1101\":\"1001\",\n",
    "    \"1110\":\"0000\",\n",
    "    \"1111\":\"0111\"}\n",
    "d01={\n",
    "    \"0000\":\"0000\",\n",
    "    \"0001\":\"1111\",\n",
    "    \"0010\":\"0111\",\n",
    "    \"0011\":\"0100\",\n",
    "    \"0100\":\"1110\",\n",
    "    \"0101\":\"0010\",\n",
    "    \"0110\":\"1101\",\n",
    "    \"0111\":\"0001\",\n",
    "    \"1000\":\"1010\",\n",
    "    \"1001\":\"0110\",\n",
    "    \"1010\":\"1100\",\n",
    "    \"1011\":\"1011\",\n",
    "    \"1100\":\"1001\",\n",
    "    \"1101\":\"0101\",\n",
    "    \"1110\":\"0011\",\n",
    "    \"1111\":\"1000\"}\n",
    "d10={\n",
    "    \"0000\":\"0100\",\n",
    "    \"0001\":\"1101\",\n",
    "    \"0010\":\"1110\",\n",
    "    \"0011\":\"1000\",\n",
    "    \"0100\":\"1101\",\n",
    "    \"0101\":\"0110\",\n",
    "    \"0110\":\"0010\",\n",
    "    \"0111\":\"1011\",\n",
    "    \"1000\":\"1111\",\n",
    "    \"1001\":\"1100\",\n",
    "    \"1010\":\"1001\",\n",
    "    \"1011\":\"0111\",\n",
    "    \"1100\":\"0011\",\n",
    "    \"1101\":\"1010\",\n",
    "    \"1110\":\"0101\",\n",
    "    \"1111\":\"0000\"\n",
    "}\n",
    "d11={\n",
    "    \"0000\":\"1111\",\n",
    "    \"0001\":\"1100\",\n",
    "    \"0010\":\"1000\",\n",
    "    \"0011\":\"0010\",\n",
    "    \"0100\":\"0100\",\n",
    "    \"0101\":\"1001\",\n",
    "    \"0110\":\"0001\",\n",
    "    \"0111\":\"0111\",\n",
    "    \"1000\":\"0111\",\n",
    "    \"1001\":\"1011\",\n",
    "    \"1010\":\"0011\",\n",
    "    \"1011\":\"1110\",\n",
    "    \"1100\":\"1010\",\n",
    "    \"1101\":\"0000\",\n",
    "    \"1110\":\"0110\",\n",
    "    \"1111\":\"1101\"\n",
    "}"
   ]
  },
  {
   "cell_type": "code",
   "execution_count": 5,
   "metadata": {},
   "outputs": [
    {
     "name": "stdout",
     "output_type": "stream",
     "text": [
      "Enter 6-bit input :\n",
      "110010\n",
      "4-bit output :\n",
      " 1100\n"
     ]
    }
   ],
   "source": [
    "s_in=(input(\"Enter 6-bit input :\\n\"))\n",
    "if s_in[0]+s_in[5]==\"00\":\n",
    "    print(\"4-bit output :\\n\",d00[s_in[1:5]])\n",
    "elif s_in[0]+s_in[5]==\"01\":\n",
    "    print(\"4-bit output :\\n\",d01[s_in[1:5]])\n",
    "elif s_in[0]+s_in[5]==\"10\":\n",
    "    print(\"4-bit output :\\n\",d10[s_in[1:5]])\n",
    "else:\n",
    "    print(\"4-bit output :\\n\",d11[s_in[1:5]])"
   ]
  },
  {
   "cell_type": "markdown",
   "metadata": {},
   "source": [
    "<h3>AES<h3>"
   ]
  },
  {
   "cell_type": "code",
   "execution_count": 18,
   "metadata": {},
   "outputs": [],
   "source": [
    "# o\tRounds= 10-14 (depends on key length)\n",
    "# o\tEach round uses 4 functions (3 layers)\n",
    "# 1.\tByteSub | Confusion Layer\n",
    "# 2.\tShiftRows |Diffusion Layer\n",
    "# 3.\tMixColumn|Diffusion Layer\n",
    "# 4.\tAddRoundKey"
   ]
  },
  {
   "cell_type": "markdown",
   "metadata": {},
   "source": [
    "<h4>Shift Rows</h4>"
   ]
  },
  {
   "cell_type": "code",
   "execution_count": 19,
   "metadata": {},
   "outputs": [],
   "source": [
    "# B0\tB4\tB8\tB12\tno\n",
    "# B5\tB9\tB13\tB1\t1\n",
    "# B10\tB14\tB2\tB6\t2\n",
    "# B15\tB3\tB7\tB11\t3"
   ]
  },
  {
   "cell_type": "code",
   "execution_count": 20,
   "metadata": {},
   "outputs": [],
   "source": [
    "# Test values...!\n",
    "# .\n",
    "# .\n",
    "# .\n",
    "# 4,5,1,8\n",
    "# 5,7,4,4\n",
    "# 5,3,4,8\n",
    "# 5,7,2,10"
   ]
  },
  {
   "cell_type": "code",
   "execution_count": 21,
   "metadata": {},
   "outputs": [
    {
     "name": "stdout",
     "output_type": "stream",
     "text": [
      "r1=4,5,1,8\n",
      "r2=5,7,4,4\n",
      "r3=5,3,4,8\n",
      "r4=5,7,2,10\n",
      "Result :\n",
      "\n",
      "4 | 5 | 1 | 8 | \n",
      "7 | 4 | 4 | 5 | \n",
      "4 | 8 | 5 | 3 | \n",
      "10 | 5 | 7 | 2 | "
     ]
    }
   ],
   "source": [
    "r1=input(\"r1=\").split(\",\")\n",
    "temp1=input(\"r2=\").split(\",\")\n",
    "r2=[]\n",
    "r2=temp1[1:]+[temp1[0]]\n",
    "temp2=input(\"r3=\").split(\",\")\n",
    "r3=[]\n",
    "r3=temp2[2:]+temp2[:2]\n",
    "temp3=input(\"r4=\").split(\",\")\n",
    "r4=[]\n",
    "r4=[temp3[3]]+temp3[:3]\n",
    "print(\"Result :\\n\")\n",
    "for e1 in r1:\n",
    "    print(e1,end=\" | \")\n",
    "print()\n",
    "for e2 in r2:\n",
    "    print(e2,end=\" | \")\n",
    "print()\n",
    "for e3 in r3:\n",
    "    print(e3,end=\" | \")\n",
    "print()\n",
    "for e4 in r4:\n",
    "    print(e4,end=\" | \")"
   ]
  },
  {
   "cell_type": "markdown",
   "metadata": {},
   "source": [
    "<h1><font color=\"red\">Lecture:03</font></h1>"
   ]
  },
  {
   "cell_type": "markdown",
   "metadata": {},
   "source": [
    "<h2><font color=\"blue\"><b>Type:01</b></font></h2>"
   ]
  },
  {
   "cell_type": "markdown",
   "metadata": {},
   "source": [
    "<h3>Modular Arithmetic</h3>"
   ]
  },
  {
   "cell_type": "code",
   "execution_count": 7,
   "metadata": {},
   "outputs": [],
   "source": [
    "def mod(a,b,p=0):\n",
    "#     Normal mod operation\n",
    "    if a>0 and b>0 and p==0:\n",
    "        return a%b\n",
    "#     Additive inverse...!!!\n",
    "    elif a<0 and b>0 and p==0:\n",
    "        m=0\n",
    "        for i  in range(1000):\n",
    "                if (abs(a)+i)%b==0:\n",
    "                    print(i)\n",
    "                    m=i\n",
    "                    break\n",
    "        return m\n",
    "#     Multiplicative inverse...!!!\n",
    "    elif p==-1:\n",
    "        m=0\n",
    "        for i in range(1,b):\n",
    "            if a*i%b==1:\n",
    "                m=i\n",
    "                break\n",
    "        return m"
   ]
  },
  {
   "cell_type": "code",
   "execution_count": 23,
   "metadata": {},
   "outputs": [
    {
     "data": {
      "text/plain": [
       "1"
      ]
     },
     "execution_count": 23,
     "metadata": {},
     "output_type": "execute_result"
    }
   ],
   "source": [
    "mod(4,3)"
   ]
  },
  {
   "cell_type": "code",
   "execution_count": 9,
   "metadata": {},
   "outputs": [
    {
     "name": "stdout",
     "output_type": "stream",
     "text": [
      "9\n"
     ]
    },
    {
     "data": {
      "text/plain": [
       "9"
      ]
     },
     "execution_count": 9,
     "metadata": {},
     "output_type": "execute_result"
    }
   ],
   "source": [
    "mod(-111,12)"
   ]
  },
  {
   "cell_type": "code",
   "execution_count": 178,
   "metadata": {},
   "outputs": [
    {
     "data": {
      "text/plain": [
       "7"
      ]
     },
     "execution_count": 178,
     "metadata": {},
     "output_type": "execute_result"
    }
   ],
   "source": [
    "mod(8,11,-1)"
   ]
  },
  {
   "cell_type": "markdown",
   "metadata": {},
   "source": [
    "<h2><font color=\"blue\"><b>Type:02</b></font></h2>"
   ]
  },
  {
   "cell_type": "markdown",
   "metadata": {},
   "source": [
    "<h3>Relatively Prime</h3>"
   ]
  },
  {
   "cell_type": "code",
   "execution_count": 26,
   "metadata": {},
   "outputs": [],
   "source": [
    "def relative_prime(n1,n2):\n",
    "    flag=True\n",
    "    f1=[]\n",
    "    for i1 in range(1,n1+1):\n",
    "        if n1%i1==0:\n",
    "            f1.append(i1)\n",
    "#     print(f1)\n",
    "    f2=[]\n",
    "    for i2 in range(1,n2+1):\n",
    "        if n2%i2==0:\n",
    "            f2.append(i2)\n",
    "#     print(f2)\n",
    "    c=0\n",
    "    for mc in f1:\n",
    "        if mc in f2:\n",
    "            c+=1\n",
    "    if c>1:\n",
    "        flag=False\n",
    "    return flag"
   ]
  },
  {
   "cell_type": "code",
   "execution_count": 27,
   "metadata": {},
   "outputs": [
    {
     "data": {
      "text/plain": [
       "True"
      ]
     },
     "execution_count": 27,
     "metadata": {},
     "output_type": "execute_result"
    }
   ],
   "source": [
    "relative_prime(3,5)"
   ]
  },
  {
   "cell_type": "code",
   "execution_count": 28,
   "metadata": {},
   "outputs": [
    {
     "data": {
      "text/plain": [
       "False"
      ]
     },
     "execution_count": 28,
     "metadata": {},
     "output_type": "execute_result"
    }
   ],
   "source": [
    "relative_prime(4,8)"
   ]
  },
  {
   "cell_type": "markdown",
   "metadata": {},
   "source": [
    "<h2><font color=\"blue\"><b>Type:03</b></font></h2>"
   ]
  },
  {
   "cell_type": "markdown",
   "metadata": {},
   "source": [
    "<h3>Totient Function, $\\phi$ </h3>"
   ]
  },
  {
   "cell_type": "code",
   "execution_count": 174,
   "metadata": {},
   "outputs": [],
   "source": [
    "def totient(n):\n",
    "    rp=[]\n",
    "    for i in range(1,n):\n",
    "        if relative_prime(i,n):\n",
    "            rp.append(i)\n",
    "    print(\"Relative primes are :\\n\", rp)\n",
    "    return f\"Totient : {len(rp)}\""
   ]
  },
  {
   "cell_type": "code",
   "execution_count": 177,
   "metadata": {},
   "outputs": [
    {
     "name": "stdout",
     "output_type": "stream",
     "text": [
      "Relative primes are :\n",
      " [1, 2, 4, 5, 7, 8]\n"
     ]
    },
    {
     "data": {
      "text/plain": [
       "'Totient : 6'"
      ]
     },
     "execution_count": 177,
     "metadata": {},
     "output_type": "execute_result"
    }
   ],
   "source": [
    "totient(9)"
   ]
  },
  {
   "cell_type": "markdown",
   "metadata": {},
   "source": [
    "<h2><font color=\"blue\"><b>Type:04</b></font></h2>"
   ]
  },
  {
   "cell_type": "markdown",
   "metadata": {},
   "source": [
    "<H3> KNAPSACK: SIK</h3>"
   ]
  },
  {
   "cell_type": "code",
   "execution_count": 31,
   "metadata": {},
   "outputs": [],
   "source": [
    "# Test values...!\n",
    "# .\n",
    "# .\n",
    "# .\n",
    "# weight=[2,3,7,14,30,57,120,251]\n",
    "# m=41,n=491"
   ]
  },
  {
   "cell_type": "markdown",
   "metadata": {},
   "source": [
    "<h4>Super increasing Knapsack or not</h4>"
   ]
  },
  {
   "cell_type": "code",
   "execution_count": 205,
   "metadata": {},
   "outputs": [],
   "source": [
    "def SIK(w_bit):\n",
    "    s=0\n",
    "    flag=True\n",
    "    for itr in range(len(w_bit)):\n",
    "        if s<=w_bit[itr]:\n",
    "            if s<w:\n",
    "                print(s,\"<\",w_bit[itr])\n",
    "            else:\n",
    "                print(s,\"<=\",w_bit[itr])\n",
    "            s+=w_bit[itr]\n",
    "        else:\n",
    "            print(s,\">\",w_bit[itr])\n",
    "            flag=False\n",
    "            break\n",
    "    return flag"
   ]
  },
  {
   "cell_type": "code",
   "execution_count": 206,
   "metadata": {},
   "outputs": [
    {
     "name": "stdout",
     "output_type": "stream",
     "text": [
      "0 < 1\n",
      "1 < 2\n",
      "3 <= 3\n",
      "6 <= 9\n",
      "15 <= 16\n",
      "31 > 25\n"
     ]
    },
    {
     "data": {
      "text/plain": [
       "False"
      ]
     },
     "execution_count": 206,
     "metadata": {},
     "output_type": "execute_result"
    }
   ],
   "source": [
    "SIK([1, 2, 3, 9, 16, 25])"
   ]
  },
  {
   "cell_type": "code",
   "execution_count": 59,
   "metadata": {},
   "outputs": [
    {
     "data": {
      "text/plain": [
       "True"
      ]
     },
     "execution_count": 59,
     "metadata": {},
     "output_type": "execute_result"
    }
   ],
   "source": [
    "SIK([2,3,7,14,30,57,120,251])"
   ]
  },
  {
   "cell_type": "markdown",
   "metadata": {},
   "source": [
    "<h4>Private key & Puclic key</h4>"
   ]
  },
  {
   "cell_type": "code",
   "execution_count": 32,
   "metadata": {},
   "outputs": [
    {
     "name": "stdout",
     "output_type": "stream",
     "text": [
      "Weight :\n",
      "2,3,7,14,30,57,120,251\n",
      "Weight sum :\n",
      " 484\n",
      "m :\n",
      "41\n",
      "n :\n",
      "491\n",
      "2 * 41 mod 491 = 82\n",
      "3 * 41 mod 491 = 123\n",
      "7 * 41 mod 491 = 287\n",
      "14 * 41 mod 491 = 83\n",
      "30 * 41 mod 491 = 248\n",
      "57 * 41 mod 491 = 373\n",
      "120 * 41 mod 491 = 10\n",
      "251 * 41 mod 491 = 471\n",
      "GK :\n",
      " (82, 123, 287, 83, 248, 373, 10, 471)\n",
      "Private key :\n",
      " 12\n",
      "Public key :\n",
      " (82, 123, 287, 83, 248, 373, 10, 471)\n"
     ]
    }
   ],
   "source": [
    "weight=[int(w) for w in input(\"Weight :\\n\").split(\",\")]\n",
    "print(\"Weight sum :\\n\",sum(weight))\n",
    "# Choose m = ? and n = ? with m, n rel. prime and n greater than sum of elements of SIK \n",
    "m=int(input(\"m :\\n\"))\n",
    "n=int(input(\"n :\\n\"))\n",
    "flag=False\n",
    "if n>sum(weight):\n",
    "    flag=True\n",
    "GK=[]\n",
    "if flag:\n",
    "    for w in weight:\n",
    "        GK.append(mod(w*m,n))\n",
    "        print(w,\"*\",m,\"mod\",n,\"=\",mod(w*m,n))\n",
    "    print(\"GK :\\n\",tuple((GK)))\n",
    "else:\n",
    "    print(\"n is not greater than sum of elements of SIK\")\n",
    "    \n",
    "private_key=mod(m,n,-1)\n",
    "print(\"Private key :\\n\",private_key)\n",
    "public_key=tuple(GK)\n",
    "print(\"Public key :\\n\",public_key)"
   ]
  },
  {
   "cell_type": "markdown",
   "metadata": {},
   "source": [
    "<h4>Encrypt text</h4>"
   ]
  },
  {
   "cell_type": "code",
   "execution_count": 33,
   "metadata": {},
   "outputs": [
    {
     "name": "stdout",
     "output_type": "stream",
     "text": [
      "Plain text :\n",
      "10010110\n",
      "Encryptedresult :\n",
      " 548\n"
     ]
    }
   ],
   "source": [
    "plaintext=input(\"Plain text :\\n\")\n",
    "ciphertext=0\n",
    "for idx in range(len(plaintext)):\n",
    "    if int(plaintext[idx])==1:\n",
    "        ciphertext+=public_key[idx]\n",
    "print(\"Encryptedresult :\\n\",ciphertext)"
   ]
  },
  {
   "cell_type": "markdown",
   "metadata": {},
   "source": [
    "<h4>Decrypt text</h4>"
   ]
  },
  {
   "cell_type": "code",
   "execution_count": 169,
   "metadata": {},
   "outputs": [
    {
     "name": "stdout",
     "output_type": "stream",
     "text": [
      "Cipher text :\n",
      "1111\n",
      "SIK weight :\n",
      " 1111 * 7 mod 3 = 1\n",
      "Plain text :\n",
      " 00000000\n"
     ]
    }
   ],
   "source": [
    "ciphertext=int(input(\"Cipher text :\\n\"))\n",
    "w_new=mod(ciphertext*private_key,n)\n",
    "print(\"SIK weight :\\n\",ciphertext,\"*\",private_key,\"mod\",n,\"=\",w_new)\n",
    "plaintext=\"\"\n",
    "for w in weight[::-1]:\n",
    "    if w<=w_new:\n",
    "        plaintext=\"1\"+ plaintext\n",
    "        w_new-=w\n",
    "    else:\n",
    "         plaintext=\"0\"+ plaintext\n",
    "print(\"Plain text :\\n\",plaintext)"
   ]
  },
  {
   "cell_type": "markdown",
   "metadata": {},
   "source": [
    "<h2><font color=\"blue\"><b>Type:05</b></font></h2>"
   ]
  },
  {
   "cell_type": "markdown",
   "metadata": {},
   "source": [
    "<h3>RSA</h3>"
   ]
  },
  {
   "cell_type": "code",
   "execution_count": 35,
   "metadata": {},
   "outputs": [
    {
     "name": "stdout",
     "output_type": "stream",
     "text": [
      "p :\n",
      "11\n",
      "q :\n",
      "3\n",
      "(p-1)*(q-1) :\n",
      " 20\n",
      "e :\n",
      "3\n",
      "d :\n",
      " 7\n",
      "Public key :\n",
      " (33, 3)\n",
      "Private key :\n",
      " 7\n"
     ]
    }
   ],
   "source": [
    "p=int(input(\"p :\\n\"))\n",
    "q=int(input(\"q :\\n\"))\n",
    "N=p*q\n",
    "print(\"(p-1)*(q-1) :\\n\",(p-1)*(q-1))\n",
    "e=int(input(\"e :\\n\"))\n",
    "if relative_prime(e,(p-1)*(q-1)):\n",
    "    d=mod(e,(p-1)*(q-1),-1)\n",
    "    print(\"d :\\n\",d)\n",
    "    public_key=(N,e)\n",
    "    print(\"Public key :\\n\",public_key)\n",
    "    private_key=d\n",
    "    print(\"Private key :\\n\",private_key)"
   ]
  },
  {
   "cell_type": "code",
   "execution_count": 60,
   "metadata": {},
   "outputs": [],
   "source": [
    "# N=\n",
    "# e="
   ]
  },
  {
   "cell_type": "markdown",
   "metadata": {},
   "source": [
    "<h4>Encrypt</h4>"
   ]
  },
  {
   "cell_type": "code",
   "execution_count": 36,
   "metadata": {},
   "outputs": [
    {
     "name": "stdout",
     "output_type": "stream",
     "text": [
      "8\n",
      "M= 8\n",
      "( 8 ^ 3 )mod 33 = 512 mod 33 = 17\n",
      "Cipher text :\n",
      " 17\n"
     ]
    }
   ],
   "source": [
    "# e->multiplicative inverse of d\n",
    "M=int(input())\n",
    "C=mod(pow(M,e),N)\n",
    "print(\"M=\",M)\n",
    "print(\"(\",M,\"^\",e,\")mod\",N,\"=\",pow(M,e),\"mod\",N,\"=\",C)\n",
    "print(\"Cipher text :\\n\",C)"
   ]
  },
  {
   "cell_type": "markdown",
   "metadata": {},
   "source": [
    "<h4>Decrypt</h4>"
   ]
  },
  {
   "cell_type": "code",
   "execution_count": 37,
   "metadata": {},
   "outputs": [
    {
     "name": "stdout",
     "output_type": "stream",
     "text": [
      "17\n",
      "C= 17\n",
      "( 17 ^ 7 )mod 33 = 410338673 mod 33 = 8\n",
      "Plain text :\n",
      " 8\n"
     ]
    }
   ],
   "source": [
    "# d->multiplicative inverse of e\n",
    "C=int(input())\n",
    "M=mod(pow(C,d),N)\n",
    "print(\"C=\",C)\n",
    "print(\"(\",C,\"^\",d,\")mod\",N,\"=\",pow(C,d),\"mod\",N,\"=\",M)\n",
    "print(\"Plain text :\\n\",M)"
   ]
  },
  {
   "cell_type": "code",
   "execution_count": 38,
   "metadata": {},
   "outputs": [],
   "source": [
    "# Modular exponentiation example\n",
    "#  520 = 95367431640625 = 25 mod 35 \n",
    "# A better way: repeated squaring \n",
    "# 20 = 10100 base 2\n",
    "# (1, 10, 101, 1010, 10100) = (1, 2, 5, 10, 20)\n",
    "# Note that 2 = 1 2, 5 = 2  2 + 1, 10 = 2  5, 20 = 2  10\n",
    "# 51= 5 mod 35\n",
    "# 52= (51)2 = 52 = 25 mod 35\n",
    "# 55= (52)2  51 = 252  5 = 3125 = 10 mod 35\n",
    "# 510 = (55)2 = 102 = 100 = 30 mod 35\n",
    "# 520 = (510)2 = 302 = 900 = 25 mod 35\n",
    "# Never have to deal with huge numbers!"
   ]
  },
  {
   "cell_type": "markdown",
   "metadata": {},
   "source": [
    "<h3>Repeated Squaring</h3>"
   ]
  },
  {
   "cell_type": "code",
   "execution_count": 180,
   "metadata": {},
   "outputs": [],
   "source": [
    "def repeated_squaring(r,s,t):\n",
    "    k=str(bin(t))[2:]\n",
    "    print(\"Weight :\\n\",k)\n",
    "    temp=\"\"\n",
    "    p=[]\n",
    "    for b in k:\n",
    "        temp+=b\n",
    "        p.append(int(temp,2))\n",
    "    print(\"Power :\\n\",p)\n",
    "    \n",
    "    print(\"Steps :\\n\")\n",
    "    \n",
    "    memory=p[0]\n",
    "    for idx in range(len(p)):\n",
    "        if idx==0:\n",
    "            memory=(memory*pow(r,p[idx]))%s\n",
    "            print(\"(1\",\"*\",r,\"^\",p[idx],\")%\",s,\"=\",memory)\n",
    "        else:\n",
    "            k=p[idx]//p[idx-1]\n",
    "            if float(k)==p[idx]/p[idx-1]:\n",
    "                print(\"(\",r,\"^\",p[idx-1],\")^\",k,\"%\",s,end=\"=\")\n",
    "                memory=pow(pow(r,p[idx-1]),k)%s\n",
    "                print(memory)\n",
    "            else:\n",
    "                print(\"(\",r,\"^\",p[idx-1],\")^\",k,\"*(\",r,\"^\",p[idx]%p[idx-1],\")%\",s,end=\"=\")\n",
    "                memory=pow(pow(r,p[idx-1]),k)*pow(r,p[idx]%p[idx-1])%s\n",
    "                print(memory)\n",
    "    return memory\n",
    "            "
   ]
  },
  {
   "cell_type": "code",
   "execution_count": 209,
   "metadata": {},
   "outputs": [
    {
     "name": "stdout",
     "output_type": "stream",
     "text": [
      "Weight :\n",
      " 11100\n",
      "Power :\n",
      " [1, 3, 7, 14, 28]\n",
      "Steps :\n",
      "\n",
      "(1 * 3 ^ 1 )% 32 = 3\n",
      "( 3 ^ 1 )^ 3 % 32=27\n",
      "( 3 ^ 3 )^ 2 *( 3 ^ 1 )% 32=11\n",
      "( 3 ^ 7 )^ 2 % 32=25\n",
      "( 3 ^ 14 )^ 2 % 32=17\n",
      "Result :\n",
      " 17\n"
     ]
    }
   ],
   "source": [
    "print(\"Result :\\n\",repeated_squaring(3,32,28))"
   ]
  },
  {
   "cell_type": "markdown",
   "metadata": {},
   "source": [
    "<h1><font color=\"red\">Lecture:04</font></h1>"
   ]
  },
  {
   "cell_type": "markdown",
   "metadata": {},
   "source": [
    "<h3>DIFFIE-HELLMAN</h3>"
   ]
  },
  {
   "cell_type": "code",
   "execution_count": 41,
   "metadata": {},
   "outputs": [],
   "source": [
    "# Key-exchange algorithm\n",
    "# Public key and M is known\n",
    "# Private key unknown"
   ]
  },
  {
   "cell_type": "code",
   "execution_count": 42,
   "metadata": {},
   "outputs": [],
   "source": [
    "# p=prime\n",
    "# g=generator\n",
    "# x=pow(g,n)%p\n",
    "# Alice->secret value=a\n",
    "# Alice sends->pow(g,a)%p\n",
    "# Alice computes->\n",
    "# Bob->secret value=b\n",
    "# Bob sends->pow(g,b)%p\n",
    "# Symmetric key->pow(g,ab) mod p->Kab=pow(g,ab)=common secret mod p\n",
    "# Trudy have to solve a discrete log problem to find a,b to break the system"
   ]
  },
  {
   "cell_type": "code",
   "execution_count": 43,
   "metadata": {},
   "outputs": [],
   "source": [
    "# Test values...!\n",
    "# .\n",
    "# .\n",
    "# .\n",
    "# a=5\n",
    "# b=12\n",
    "# g=2\n",
    "# p=29"
   ]
  },
  {
   "cell_type": "code",
   "execution_count": 179,
   "metadata": {},
   "outputs": [
    {
     "name": "stdout",
     "output_type": "stream",
     "text": [
      "Alice's private value : \n",
      "8\n",
      "Bob's private value :\n",
      "13\n",
      "Generator value :\n",
      "2\n",
      "Prime number for mod operation :\n",
      "17\n",
      "Alice calculates :\n",
      " ( 2 ^ 8 )mod 17 = 1\n",
      "Alice sends to Bob :\n",
      " 1\n",
      "Bob  calculates :\n",
      " ( 2 ^ 13 )mod 17 = 15\n",
      "Bob sends to Alice :\n",
      " 15\n",
      "Common secret key :\n",
      " 1\n"
     ]
    }
   ],
   "source": [
    "a=int(input(\"Alice's private value : \\n\"))\n",
    "b=int(input(\"Bob's private value :\\n\"))\n",
    "g=int(input(\"Generator value :\\n\"))\n",
    "p=int(input(\"Prime number for mod operation :\\n\"))\n",
    "A=pow(g,a)%p\n",
    "print(\"Alice calculates :\\n\",\"(\",g,\"^\",a,\")mod\",p,\"=\",A)\n",
    "print(\"Alice sends to Bob :\\n\",A)\n",
    "B=pow(g,b)%p\n",
    "print(\"Bob  calculates :\\n\",\"(\",g,\"^\",b,\")mod\",p,\"=\",B)\n",
    "print(\"Bob sends to Alice :\\n\",B)\n",
    "K_ab=pow(g,a*b)%p\n",
    "print(\"Common secret key :\\n\",K_ab)"
   ]
  },
  {
   "cell_type": "code",
   "execution_count": 45,
   "metadata": {},
   "outputs": [],
   "source": [
    "# MiM->man-in-the-middle-attack\n",
    "# Trudy's private key->t\n",
    "# Trudy to Bob->pow(g,t)%p\n",
    "# Trudy to Alice->pow(g,t)%p"
   ]
  },
  {
   "cell_type": "markdown",
   "metadata": {},
   "source": [
    "<h1><font color=\"red\">Lecture:05</font></h1>"
   ]
  },
  {
   "cell_type": "code",
   "execution_count": 46,
   "metadata": {},
   "outputs": [],
   "source": [
    "# Test values...!\n",
    "# .\n",
    "# .\n",
    "# .\n",
    "# Alice=BE439AD598EF5147\n",
    "# Bob=9C8B7A1425369584\n",
    "# Charlie=885522336699CCBB"
   ]
  },
  {
   "cell_type": "code",
   "execution_count": 9,
   "metadata": {},
   "outputs": [
    {
     "name": "stdout",
     "output_type": "stream",
     "text": [
      "How many checks?\n",
      "3\n",
      "Enter first iris bit sequence=BE439AD598EF5147\n",
      "Enter second iris bit sequence=9C8B7A1425369584\n",
      "1011111001000011100110101101010110011000111011110101000101000111\n",
      "1001110010001011011110100001010000100101001101101001010110000100\n",
      "Result : 29/64\n",
      "Enter first iris bit sequence=BE439AD598EF5147\n",
      "Enter second iris bit sequence=885522336699CCBB\n",
      "1011111001000011100110101101010110011000111011110101000101000111\n",
      "1000100001010101001000100011001101100110100110011100110010111011\n",
      "Result : 39/64\n",
      "Enter first iris bit sequence=9C8B7A1425369584\n",
      "Enter second iris bit sequence=885522336699CCBB\n",
      "1001110010001011011110100001010000100101001101101001010110000100\n",
      "1000100001010101001000100011001101100110100110011100110010111011\n",
      "Result : 34/64\n"
     ]
    }
   ],
   "source": [
    "def htb(ip):\n",
    "    hex_to_bin={\"0\":\"0000\", \"1\":\"0001\",\"2\":\"0010\",\"3\":\"0011\",\"4\":\"0100\",\"5\":\"0101\",\"6\":\"0110\",\"7\":\"0111\",\n",
    "                \"8\":\"1000\",\"9\":\"1001\",\"A\":\"1010\",\"B\":\"1011\",\"C\":\"1100\",\"D\":\"1101\",\"E\":\"1110\",\"F\":\"1111\"\n",
    "    }\n",
    "    hex=ip\n",
    "    bin=\"\"\n",
    "    for ch in hex:\n",
    "        bin+=hex_to_bin[ch]\n",
    "    return bin\n",
    "# hamming distance\n",
    "def distance(iris1,iris2):\n",
    "    unmatched_bits=0\n",
    "    compared_bits=(len(iris1)+len(iris2))//2\n",
    "    #checking the unmatched bit counts\n",
    "    for n in range(compared_bits):\n",
    "            if iris1[n]!=iris2[n]:\n",
    "                unmatched_bits+=1\n",
    "            else:\n",
    "#                 print(\"Matched Position :\",n,\"\\nMatched Bit :\",iris1[n])\n",
    "                    pass\n",
    "    print(f\"Result : {unmatched_bits}/{compared_bits}\")\n",
    "    return unmatched_bits/compared_bits\n",
    "for i in range(int(input(\"How many checks?\\n\"))):\n",
    "    iris1=htb(input(\"Enter first iris bit sequence=\"))\n",
    "    iris2=htb(input(\"Enter second iris bit sequence=\"))\n",
    "    print(iris1)\n",
    "    print(iris2)\n",
    "    distance(iris1,iris2)"
   ]
  }
 ],
 "metadata": {
  "kernelspec": {
   "display_name": "Python 3",
   "language": "python",
   "name": "python3"
  },
  "language_info": {
   "codemirror_mode": {
    "name": "ipython",
    "version": 3
   },
   "file_extension": ".py",
   "mimetype": "text/x-python",
   "name": "python",
   "nbconvert_exporter": "python",
   "pygments_lexer": "ipython3",
   "version": "3.7.6"
  }
 },
 "nbformat": 4,
 "nbformat_minor": 4
}
