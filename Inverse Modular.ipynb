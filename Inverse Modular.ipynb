{
 "cells": [
  {
   "cell_type": "markdown",
   "metadata": {},
   "source": [
    "<h4>$p^{-1}$ mod m = ?</h4>"
   ]
  },
  {
   "cell_type": "markdown",
   "metadata": {},
   "source": [
    "<h4>Note: p will have multiplicative inverse  $p^{-1}$, iff the gcd of p and $p^{-1}$ is equal to 1</h4>"
   ]
  },
  {
   "cell_type": "code",
   "execution_count": 1,
   "metadata": {},
   "outputs": [
    {
     "name": "stdout",
     "output_type": "stream",
     "text": [
      "42   2   -42\n",
      "11   1   463\n",
      "2   0   -968\n",
      "463\n"
     ]
    }
   ],
   "source": [
    "# Given\n",
    "p=968\n",
    "m=23\n",
    "# ----------------------------------------------------------------------------------------------------------------------------------\n",
    "# gcd(p,m)\n",
    "# ----------------------------------------------------------------------------------------------------------------------------------\n",
    "# Initialization\n",
    "r1=p\n",
    "r2=m\n",
    "t1=0\n",
    "t2=1\n",
    "# ----------------------------------------------------------------------------------------------------------------------------------\n",
    "while True:\n",
    "    g=r1//r2#Quotient\n",
    "    r=r1%r2#Remainder\n",
    "    t=t1-g*t2\n",
    "    print(g,\" \",r,\" \",t)\n",
    "# shift\n",
    "    r1=r2\n",
    "    r2=r\n",
    "    if r==0:\n",
    "        break\n",
    "    else:\n",
    "# shift\n",
    "        t1=t2\n",
    "        t2=t\n",
    "# ----------------------------------------------------------------------------------------------------------------------------------\n",
    "p_inverse=t2        \n",
    "if t2<0:\n",
    "    p_inverse=p+t2\n",
    "    \n",
    "print(p_inverse)\n",
    "    "
   ]
  },
  {
   "cell_type": "markdown",
   "metadata": {},
   "source": [
    "<h4> Extended Euclidean </h4>"
   ]
  },
  {
   "cell_type": "code",
   "execution_count": 2,
   "metadata": {},
   "outputs": [
    {
     "data": {
      "text/plain": [
       "1"
      ]
     },
     "execution_count": 2,
     "metadata": {},
     "output_type": "execute_result"
    }
   ],
   "source": [
    "# Test the result...!\n",
    "import math\n",
    "math.gcd(181,71)"
   ]
  },
  {
   "cell_type": "code",
   "execution_count": 3,
   "metadata": {},
   "outputs": [],
   "source": [
    "def inverse(p,m):\n",
    "    # Given\n",
    "    p=181\n",
    "    m=71\n",
    "    t_list=[]\n",
    "    # ----------------------------------------------------------------------------------------------------------------------------------\n",
    "    # gcd(p,m)\n",
    "    # ----------------------------------------------------------------------------------------------------------------------------------\n",
    "    # Initialization\n",
    "    r1=p\n",
    "    r2=m\n",
    "    t1=0\n",
    "    t2=1\n",
    "    # ----------------------------------------------------------------------------------------------------------------------------------\n",
    "    while True:\n",
    "        g=r1//r2#Quotient\n",
    "        r=r1%r2#Remainder\n",
    "        t=t1-g*t2\n",
    "        t_list.append(t)\n",
    "    # shift\n",
    "        r1=r2\n",
    "        r2=r\n",
    "        if r==0:\n",
    "            break\n",
    "        else:\n",
    "    # shift\n",
    "            t1=t2\n",
    "            t2=t\n",
    "    # ----------------------------------------------------------------------------------------------------------------------------------\n",
    "    p_inverse=t2        \n",
    "    if t2<0:\n",
    "        p_inverse=p+t2\n",
    "    return t_list"
   ]
  },
  {
   "cell_type": "code",
   "execution_count": 4,
   "metadata": {},
   "outputs": [
    {
     "name": "stdout",
     "output_type": "stream",
     "text": [
      ">>>GCD calculation for 181 and 71 : \n",
      "\n",
      "181 = 2 x 71 + 39\n",
      "71 = 1 x 39 + 32\n",
      "39 = 1 x 32 + 7\n",
      "32 = 4 x 7 + 4\n",
      "7 = 1 x 4 + 3\n",
      "4 = 1 x 3 + 1\n",
      "3 = 3 x 1 + 0\n",
      "\n",
      "GCD: 1\n",
      "\n",
      "\n",
      ">>>Modular inverse calculation for 181 : \n",
      "\n",
      "Goal : GCD(181,71) = 1 = S x 181 + t x 71\n",
      "\n",
      "r0 = 181 , r1 = 71 , r2 =  [39]\n",
      ">>>181 =  1 x [71] + [39]\n",
      "Insert values for boxed items [] and find S , t>>>\n",
      ">>> r2 = [39] = S x 181 + [-2] x 71\n",
      "\n",
      "r0 = 71 , r1 = 39 , r2 =  [32]\n",
      ">>>71 =  1 x [39] + [32]\n",
      "Insert values for boxed items [] and find S , t>>>\n",
      ">>> r2 = [32] = S x 181 + [3] x 71\n",
      "\n",
      "r0 = 39 , r1 = 32 , r2 =  [7]\n",
      ">>>39 =  1 x [32] + [7]\n",
      "Insert values for boxed items [] and find S , t>>>\n",
      ">>> r2 = [7] = S x 181 + [-5] x 71\n",
      "\n",
      "r0 = 32 , r1 = 7 , r2 =  [4]\n",
      ">>>32 =  1 x [7] + [4]\n",
      "Insert values for boxed items [] and find S , t>>>\n",
      ">>> r2 = [4] = S x 181 + [23] x 71\n",
      "\n",
      "r0 = 7 , r1 = 4 , r2 =  [3]\n",
      ">>>7 =  1 x [4] + [3]\n",
      "Insert values for boxed items [] and find S , t>>>\n",
      ">>> r2 = [3] = S x 181 + [-28] x 71\n",
      "\n",
      "r0 = 4 , r1 = 3 , r2 =  [1]\n",
      ">>>4 =  1 x [3] + [1]\n",
      "Insert values for boxed items [] and find S , t>>>\n",
      ">>> r2 = [1] = S x 181 + [51] x 71\n",
      "\n"
     ]
    }
   ],
   "source": [
    "# Given\n",
    "p=181\n",
    "m=71\n",
    "# ----------------------------------------------------------------------------------------------------------------------------------\n",
    "# gcd(p,m)\n",
    "gcd=0\n",
    "# ----------------------------------------------------------------------------------------------------------------------------------\n",
    "# Initialization\n",
    "r1=p\n",
    "r2=m\n",
    "# ----------------------------------------------------------------------------------------------------------------------------------\n",
    "print(f\">>>GCD calculation for {p} and {m} : \\n\")\n",
    "while True:\n",
    "    g=r1//r2#Quotient\n",
    "    r=r1%r2#Remainder\n",
    "    if r==0:\n",
    "        gcd=r2\n",
    "    print(r1,\"=\",g,\"x\",r2,\"+\",r)\n",
    "# shift\n",
    "    r1=r2\n",
    "    r2=r\n",
    "    if r==0:\n",
    "        break\n",
    "print(\"\\nGCD:\",gcd)\n",
    "print(\"\\n\")\n",
    "# ----------------------------------------------------------------------------------------------------------------------------------\n",
    "# gcd(p,m)=S x p+t x m\n",
    "r0=p\n",
    "r1=m\n",
    "print(f\">>>Modular inverse calculation for {p} : \\n\")\n",
    "print(f\"Goal : GCD({p},{m}) = 1 = S x {p} + t x {m}\\n\")\n",
    "t_list=inverse(p,m)\n",
    "i=0\n",
    "while True:\n",
    "    t=r0//r1\n",
    "    r2=r0%r1\n",
    "    t=t_list[i]\n",
    "    i+=1\n",
    "    print(f\"r0 = {r0} , r1 = {r1} , r2 =  [{r2}]\")\n",
    "    print(f\">>>{r0} =  1 x [{r1}] + [{r2}]\")\n",
    "    print(\"Insert values for boxed items [] and find S , t>>>\")\n",
    "    print(f\">>> r2 = [{r2}] = S x {p} + [{t}] x {m}\\n\")\n",
    "    if r2==gcd:\n",
    "          break\n",
    "    # shift\n",
    "    r0=r1\n",
    "    r1=r2\n"
   ]
  }
 ],
 "metadata": {
  "kernelspec": {
   "display_name": "Python 3",
   "language": "python",
   "name": "python3"
  },
  "language_info": {
   "codemirror_mode": {
    "name": "ipython",
    "version": 3
   },
   "file_extension": ".py",
   "mimetype": "text/x-python",
   "name": "python",
   "nbconvert_exporter": "python",
   "pygments_lexer": "ipython3",
   "version": "3.7.9"
  }
 },
 "nbformat": 4,
 "nbformat_minor": 4
}
